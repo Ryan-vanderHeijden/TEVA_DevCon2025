{
 "cells": [
  {
   "cell_type": "markdown",
   "metadata": {},
   "source": [
    "# Import Packages"
   ]
  },
  {
   "cell_type": "code",
   "execution_count": null,
   "metadata": {},
   "outputs": [],
   "source": [
    "# Base packages\n",
    "import numpy as np\n",
    "import pandas as pd\n",
    "import matplotlib.pyplot as plt\n",
    "from matplotlib import colors\n",
    "\n",
    "# Holoviews packages\n",
    "import holoviews as hv\n",
    "import hvplot.pandas\n",
    "from bokeh.io import output_notebook\n",
    "from bokeh.palettes import varying_alpha_palette\n",
    "from bokeh.plotting import figure, show\n",
    "from bokeh.layouts import column, row\n",
    "from bokeh.transform import linear_cmap\n",
    "from bokeh.models import HoverTool\n",
    "from bokeh.models import ColumnDataSource, CDSView, GroupFilter, NumeralTickFormatter, TableColumn, DataTable, Div, TabPanel, Tabs\n",
    "output_notebook()\n",
    "hv.extension('bokeh')\n",
    "import panel as pn\n",
    "pn.extension(throttled=True)\n",
    "\n",
    "# Post processing file\n",
    "import TEVA_Post_Processing as post"
   ]
  },
  {
   "cell_type": "markdown",
   "metadata": {},
   "source": [
    "# Import TEVA Output Files"
   ]
  },
  {
   "cell_type": "code",
   "execution_count": null,
   "metadata": {},
   "outputs": [],
   "source": [
    "# Import CC and DNF output files\n",
    "ccs = pd.read_excel('ccs_2DOC_CAMELS.xlsx', sheet_name='CCEA_Low')\n",
    "dnfs = pd.read_excel('dnfs_2DOC_CAMELS.xlsx', sheet_name='DNFEA_Low')\n",
    "\n",
    "# Import observation data\n",
    "data = pd.read_csv('test_observations.csv')"
   ]
  },
  {
   "cell_type": "markdown",
   "metadata": {},
   "source": [
    "# Run Post-Processing Functions\n",
    "These functions, imported from the \"TEVA_Post_Processing.py\" file, help parse the Excel spreadsheets into a more usable form."
   ]
  },
  {
   "cell_type": "code",
   "execution_count": null,
   "metadata": {},
   "outputs": [],
   "source": [
    "# List of the CCs composing each DNF\n",
    "all_ccs = post.flatten(post.parse_dnf(dnfs))\n",
    "\n",
    "# List of the features composing each CC\n",
    "cc_features = post.parse_cc(ccs)\n",
    "\n",
    "# Flatten list of lists\n",
    "# all_ccs_flat = post.flatten(all_ccs)\n",
    "# cc_features_flat = flatten(cc_features)\n",
    "\n",
    "# List of the unique CCs across all DNFs\n",
    "unique_ccs = (np.unique(all_ccs))\n",
    "\n",
    "# Fitness contours\n",
    "x_fit, y_fit, z_fit, fitness = post.fitness_contours(1000, dnfs, ccs)\n",
    "\n",
    "# CC and DNF lengths\n",
    "cc_len = np.arange(1, max(ccs['order']) + 1 , 1)\n",
    "dnf_len = np.arange(1, max(dnfs['order']) + 1 , 1)"
   ]
  },
  {
   "cell_type": "markdown",
   "metadata": {},
   "source": [
    "# Set up the Dashboard\n",
    "    > Custom color maps for cc/dnf plot\n",
    "    "
   ]
  },
  {
   "cell_type": "code",
   "execution_count": null,
   "metadata": {},
   "outputs": [],
   "source": [
    "# Custom color maps\n",
    "'''\n",
    "Create custom colormaps, one for CCs, one from DNFs, and one for fitness contours.\n",
    "Colormaps can range from 0 to 256, but it is best to trim the lightest and darkest portions out.\n",
    "'''\n",
    "cc_colors = []\n",
    "dnf_colors = []\n",
    "\n",
    "# CCs and DNFs\n",
    "for i in range(20,220):\n",
    "    cc_colors.append(colors.rgb2hex(plt.get_cmap('Blues_r')(i)))\n",
    "    dnf_colors.append(colors.rgb2hex(plt.get_cmap('Oranges_r')(i)))\n",
    "\n",
    "# Fitness contours\n",
    "contour_colors = varying_alpha_palette(color='black', start_alpha=150, end_alpha=10)"
   ]
  },
  {
   "cell_type": "code",
   "execution_count": null,
   "metadata": {},
   "outputs": [],
   "source": [
    "# Bokeh Data Sources\n",
    "'''\n",
    "Bokeh uses a data structure called a \"Column Data Source\" (CDS) for plotting.\n",
    "The easiest way to create them with your data is by passing your data as a disctionary.\n",
    "'''\n",
    "\n",
    "# column data source for CCs\n",
    "cc_plot_data = {'x_values': ccs['cov'],\n",
    "                'y_values': ccs['ppv'],\n",
    "                'CC': ccs['Unnamed: 0'],\n",
    "                'Order': ccs['order'],\n",
    "                'Features': cc_features}\n",
    "cc_plot_source = ColumnDataSource(data=cc_plot_data)\n",
    "\n",
    "# column data source for DNFs\n",
    "dnf_plot_data = {'x_values': dnfs['cov'],\n",
    "                 'y_values': dnfs['ppv'],\n",
    "                 'Order': dnfs['order'],\n",
    "                 'DNF': dnfs['Unnamed: 0'],\n",
    "                 'CCs': all_ccs}\n",
    "dnf_plot_source = ColumnDataSource(data=dnf_plot_data)\n",
    "\n",
    "# column data source for fitness contours\n",
    "dnf_cont_data = {'x_values': x_fit,\n",
    "                 'y_values': y_fit,\n",
    "                 'z_values': z_fit}\n",
    "dnf_cont_source = ColumnDataSource(dnf_cont_data)"
   ]
  },
  {
   "cell_type": "code",
   "execution_count": null,
   "metadata": {},
   "outputs": [],
   "source": [
    "# Bokeh Figure Setup\n",
    "# tooltips to display when you hover over a data point\n",
    "h = 900\n",
    "w = 800\n",
    "\n",
    "dnf_TOOLS = [\n",
    "    ('DNF #', '@DNF'),\n",
    "    ('Order', '@Order'),\n",
    "    ('PPV', '@y_values'),\n",
    "    ('COV', '@x_values'),\n",
    "    ('CCs', '@CCs')]\n",
    "\n",
    "cc_TOOLS = [\n",
    "    ('CC #', '@CC'),\n",
    "    ('Order', '@Order'),\n",
    "    ('PPV', '@y_values'),\n",
    "    ('COV', '@x_values'),\n",
    "    ('Features', '@Features')]\n",
    "\n",
    "#### Figure 1\n",
    "p1 = figure(width = w, height = h,\n",
    "           y_range=(0,1.05),\n",
    "           x_range=(0,1.05),\n",
    "           x_axis_label='Observation Coverage',\n",
    "           y_axis_label='Positive Predictive Value',\n",
    "           hidpi=True,\n",
    "           tools='crosshair, pan, tap, wheel_zoom, zoom_in, zoom_out, box_zoom, undo, redo, reset, save, lasso_select, help')\n",
    "\n",
    "# cont_levels = np.linspace(min(fitness), max(fitness), 10)\n",
    "cont_levels = np.linspace(min(fitness), max(fitness), 10)\n",
    "contour_renderer = p1.contour(x_fit, y_fit, z_fit,\n",
    "                             levels=cont_levels,\n",
    "                             line_color='gray',\n",
    "                             fill_color=contour_colors,\n",
    "                             line_dash='dashed')\n",
    "# Plot CCs, colored by order\n",
    "for i in range(0, len(cc_len)):\n",
    "    cc_plots = p1.scatter('x_values', 'y_values', source=cc_plot_source,\n",
    "              view=CDSView(filter=GroupFilter(column_name='Order', group=len(cc_len) - i)),\n",
    "              size=12,\n",
    "              marker='square',\n",
    "              line_color='white',\n",
    "              fill_color=linear_cmap('Order', cc_colors, low=min(ccs['order']), high=max(ccs['order'])),\n",
    "              hover_color='black',\n",
    "              legend_label='CC Order {}'.format(len(cc_len) - i),\n",
    "              fill_alpha=1)\n",
    "\n",
    "# Add hover tool for CCs\n",
    "p1.add_tools(HoverTool(tooltips=cc_TOOLS,\n",
    "                      mode='mouse',\n",
    "                      point_policy='follow_mouse'))\n",
    "\n",
    "# Plot DNFs, colored by order\n",
    "all_dnf_plots = []\n",
    "for i in range(0, len(dnf_len)):\n",
    "    dnf_plot = p1.scatter('x_values', 'y_values', source=dnf_plot_source,\n",
    "              view=CDSView(filter=GroupFilter(column_name='Order', group=len(dnf_len) - i)),\n",
    "              size=13,\n",
    "              marker='circle',\n",
    "              line_color='white',\n",
    "              fill_color=linear_cmap('Order', dnf_colors, low=min(dnfs['order']), high=max(dnfs['order'])),\n",
    "              hover_color='black',\n",
    "              legend_label='DNF Order {}'.format(len(dnf_len) - i),\n",
    "              fill_alpha=1)\n",
    "    all_dnf_plots.append(dnf_plot)\n",
    "\n",
    "# Add seperate hover tool for DNFs\n",
    "p1.add_tools(HoverTool(renderers = all_dnf_plots,\n",
    "                      tooltips=dnf_TOOLS,\n",
    "                      mode='mouse',\n",
    "                      point_policy='follow_mouse'))\n",
    "\n",
    "# Add color bar for fitness contours\n",
    "colorbar = contour_renderer.construct_color_bar(height=int(h/2),\n",
    "                                                location=(0,int(h/4)),\n",
    "                                                formatter = NumeralTickFormatter(format='0 a'),\n",
    "                                                bar_line_color='black',\n",
    "                                                major_tick_line_color='black')\n",
    "\n",
    "# General formatting\n",
    "p1.legend.click_policy='hide'\n",
    "p1.legend.location='bottom_left'\n",
    "p1.add_layout(colorbar, 'right')\n",
    "nonselection_fill_alpha=0.2"
   ]
  },
  {
   "cell_type": "code",
   "execution_count": null,
   "metadata": {},
   "outputs": [],
   "source": [
    "# Function for updating plots in the CC explorer\n",
    "def feature_plotter(selected_cc):\n",
    "    fig = []\n",
    "    for i in range(len(cc_features[selected_cc])):\n",
    "        fig.append(data[cc_features[selected_cc][i]].dropna().hvplot.kde(height=200, width=300, hover=False))\n",
    "        fig[i].opts(shared_axes=False, toolbar=None)\n",
    "    return pn.FlexBox(objects=fig)\n",
    "\n",
    "# Widget for selecting CC to plot\n",
    "dropdown_options = list(np.sort(unique_ccs.astype(int)))\n",
    "cc_select = pn.widgets.Select(options=dropdown_options, width=75, name='CC', description='Select a CC to view features.')\n",
    "\n",
    "# Bind function to widget\n",
    "dynamic_subplots = pn.bind(feature_plotter, cc_select)\n",
    "\n",
    "# Create layout\n",
    "CC_Explorer = pn.Row(cc_select, dynamic_subplots)"
   ]
  },
  {
   "cell_type": "code",
   "execution_count": null,
   "metadata": {},
   "outputs": [],
   "source": [
    "# Assemble dashboard\n",
    "# app = pn.Row(p1, CC_Explorer)\n",
    "bokeh_pane = pn.pane.Bokeh(p1)"
   ]
  },
  {
   "cell_type": "code",
   "execution_count": null,
   "metadata": {},
   "outputs": [],
   "source": [
    "pn.Row(bokeh_pane, CC_Explorer)"
   ]
  }
 ],
 "metadata": {
  "kernelspec": {
   "display_name": "Holoviews",
   "language": "python",
   "name": "python3"
  },
  "language_info": {
   "codemirror_mode": {
    "name": "ipython",
    "version": 3
   },
   "file_extension": ".py",
   "mimetype": "text/x-python",
   "name": "python",
   "nbconvert_exporter": "python",
   "pygments_lexer": "ipython3",
   "version": "3.12.8"
  }
 },
 "nbformat": 4,
 "nbformat_minor": 2
}
