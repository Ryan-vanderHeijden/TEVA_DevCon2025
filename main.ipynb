{
 "cells": [
  {
   "cell_type": "markdown",
   "metadata": {},
   "source": [
    "# **TEVA Output Explorer Dashboard**\n",
    "\n",
    "This file mainly manages importing the TEVA output files, running some post-processing functions, setting up plot interactivity, and constructing the dashboard. Two supporting `.py` files contain the post-processing and plotting functions.\n",
    "\n",
    "`TEVA_Post_Processing.py` contains the post-processing functions that transform the .xlsx file output from TEVA into several more informative and user-friendly data structures. These data structures are used to generate the interactive plots.\n",
    "\n",
    "`TEVA_Dynamic_Plotting.py` contains functions for plotting the various results of the post-processing functions and handling figure updates when the user interacts with the dashboard controls.\n",
    "\n",
    "Examples of TEVA output files and observation data are included in the `Sample_Data` folder.\n",
    "\n",
    "**This notebook is divided into six sections:**\n",
    "1. Import dependencies\n",
    "2. Import TEVA output files and observation data\n",
    "3. Run post-processing functions\n",
    "4. Dashboard support\n",
    "5. Dashboard interactivity\n",
    "6. Dashboard layout\n",
    "\n",
    "**The dashboard has five main components:**\n",
    "1. Controls\n",
    "    - Minimum and maximum sensitivity sliders\n",
    "    - CC selector for CC feature subplots\n",
    "    - \"Update\" button to update tabbed plots\n",
    "    - \"Save\" button to export dashboard as a .html file\n",
    "2. PPV vs. COV plot\n",
    "3. CC feature subplots\n",
    "4. Tabbed plots\n",
    "    - Feature pairing\n",
    "    - Features used in CCs\n",
    "    - CCs used in DNFs\n",
    "5. Confusion matrix for selected CC\n",
    "\n",
    "<img src='Sample_Data/Example_Dashboard_Layout.png' width='800'>"
   ]
  },
  {
   "cell_type": "markdown",
   "metadata": {},
   "source": [
    "## Import Dependencies\n",
    "Import the necessary dependencies and import the `TEVA_Post_Processing.py` and `TEVA_Dynamic_Plotting,py` scripts."
   ]
  },
  {
   "cell_type": "code",
   "execution_count": null,
   "metadata": {},
   "outputs": [],
   "source": [
    "# Base packages\n",
    "import numpy as np\n",
    "import pandas as pd\n",
    "from matplotlib.pyplot import get_cmap\n",
    "from matplotlib.colors import rgb2hex\n",
    "\n",
    "# Holoviews packages\n",
    "import holoviews as hv\n",
    "import hvplot.pandas\n",
    "from bokeh.io import output_notebook\n",
    "from bokeh.palettes import varying_alpha_palette\n",
    "from bokeh.plotting import figure\n",
    "from bokeh.resources import INLINE\n",
    "from bokeh.models import ColumnDataSource, TabPanel, Tabs\n",
    "import panel as pn\n",
    "import colorcet as cc\n",
    "output_notebook()\n",
    "hv.extension('bokeh')\n",
    "pn.extension(throttled=True)\n",
    "\n",
    "# Custom post processing and plotting functions\n",
    "import TEVA_Post_Processing as post\n",
    "import TEVA_Dynamic_Plotting as teva_plot"
   ]
  },
  {
   "cell_type": "markdown",
   "metadata": {},
   "source": [
    "## Import TEVA Output Files\n",
    "Import your CC and DNF output files. Selected sheet corresponds to output class. Import the observation data used for running TEVA."
   ]
  },
  {
   "cell_type": "code",
   "execution_count": null,
   "metadata": {},
   "outputs": [],
   "source": [
    "# # Import CC and DNF output files\n",
    "ccs = pd.read_excel('Sample_Data/ccs_2DOC_CAMELS_1_S_True_60_60_TEVA007.xlsx', sheet_name='CCEA_High')\n",
    "dnfs = pd.read_excel('Sample_Data/dnfs_2DOC_CAMELS_1_S_True_60_60_TEVA007.xlsx', sheet_name='DNFEA_High')\n",
    "# Import observation data\n",
    "data = pd.read_csv('Sample_Data/test_observations.csv')"
   ]
  },
  {
   "cell_type": "markdown",
   "metadata": {},
   "source": [
    "## Run Post-Processing Functions\n",
    "These functions, imported from the `TEVA_Post_Processing.py` file, help parse the Excel spreadsheets into more informative forms for plotting. There are some post-processing functions that are not imported here--they are used in the `TEVA_Dynamic_Plotting.py` file."
   ]
  },
  {
   "cell_type": "code",
   "execution_count": null,
   "metadata": {},
   "outputs": [],
   "source": [
    "# List of the CCs composing each DNF\n",
    "all_ccs = post.parse_dnf(dnfs)\n",
    "all_ccs_flat = post.flatten(all_ccs)\n",
    "\n",
    "# List of the features composing each CC\n",
    "cc_features = post.parse_cc(ccs)\n",
    "unique_features = pd.unique(post.flatten(cc_features))\n",
    "all_features_flat = post.flatten(cc_features)\n",
    "\n",
    "# List of the unique CCs across all DNFs\n",
    "unique_ccs = (np.unique(all_ccs_flat))\n",
    "\n",
    "# Fitness contours\n",
    "x_fit, y_fit, z_fit, fitness = post.fitness_contours(1000, dnfs, ccs)\n",
    "\n",
    "# CC and DNF lengths (needed for a bunch of plotting  related things)\n",
    "cc_len = np.arange(1, max(ccs['order']) + 1, 1)\n",
    "dnf_len = np.arange(1, max(dnfs['order']) + 1, 1)\n",
    "\n",
    "# feature value ranges by cc\n",
    "feature_values_by_cc = post.feature_ranges_by_cc(ccs)"
   ]
  },
  {
   "cell_type": "markdown",
   "metadata": {},
   "source": [
    "## Dashboard Support\n",
    "Select and set up colormaps for the PPV vs. COV plot, fitness contours, etc.\n",
    "- You can change the colormaps to any Matplotlib named colormap.\n",
    "- You can change the colormap range depending on the contrast you want\n",
    "    - Default for CCs and DNFs is 20-220 (full range would be 0-256)\n",
    "\n",
    "Set up some data structures for plotting. Several other data structures are constructed in the `TEVA_Dynamic_Plotting.py` file."
   ]
  },
  {
   "cell_type": "code",
   "execution_count": null,
   "metadata": {},
   "outputs": [],
   "source": [
    "# Custom color maps\n",
    "'''\n",
    "Create custom colormaps, one for CCs, one from DNFs, and one for fitness contours.\n",
    "Colormaps can range from 0 to 256, but it is best to trim the lightest and darkest portions out.\n",
    "'''\n",
    "cc_colors = []\n",
    "dnf_colors = []\n",
    "\n",
    "# CCs and DNFs\n",
    "for i in range(20,220):\n",
    "    cc_colors.append(rgb2hex(get_cmap('Blues_r')(i)))\n",
    "    dnf_colors.append(rgb2hex(get_cmap('Oranges_r')(i)))\n",
    "\n",
    "# Fitness contours\n",
    "contour_colors = varying_alpha_palette(color='black', start_alpha=150, end_alpha=10)\n",
    "\n",
    "# For CC feature heatmap\n",
    "cc_heatmap_colormap = []\n",
    "for i in range(0,256):\n",
    "    cc_heatmap_colormap.append(rgb2hex(get_cmap('Blues')(i)))\n",
    "\n",
    "# categorical colormap\n",
    "cat_map = cc.palette['glasbey_bw']"
   ]
  },
  {
   "cell_type": "code",
   "execution_count": null,
   "metadata": {},
   "outputs": [],
   "source": [
    "# Bokeh Data Sources\n",
    "'''\n",
    "Bokeh uses a data structure called a \"Column Data Source\" (CDS) for plotting.\n",
    "The easiest way to create them with your data is by passing your data as a dictionary.\n",
    "'''\n",
    "\n",
    "# column data source for CCs\n",
    "cc_plot_data = {'x_values': ccs['cov'],\n",
    "                'y_values': ccs['ppv'],\n",
    "                'min_sens': ccs['min_feat_sensitivity'],\n",
    "                'max_sens': ccs['max_feat_sensitivity'],\n",
    "                'CC': ccs['Unnamed: 0'],\n",
    "                'Order': ccs['order'],\n",
    "                'Features': cc_features}\n",
    "cc_plot_source = ColumnDataSource(data=cc_plot_data)\n",
    "cc_plot_data= pd.DataFrame(cc_plot_data)\n",
    "\n",
    "# column data source for DNFs\n",
    "dnf_plot_data = {'x_values': dnfs['cov'],\n",
    "                 'y_values': dnfs['ppv'],\n",
    "                 'Order': dnfs['order'],\n",
    "                 'DNF': dnfs['Unnamed: 0'],\n",
    "                 'CCs': all_ccs}\n",
    "dnf_plot_source = ColumnDataSource(data=dnf_plot_data)\n",
    "\n",
    "# column data source for fitness contours\n",
    "dnf_cont_data = {'x_values': x_fit,\n",
    "                 'y_values': y_fit,\n",
    "                 'z_values': z_fit}\n",
    "dnf_cont_source = ColumnDataSource(dnf_cont_data)"
   ]
  },
  {
   "cell_type": "markdown",
   "metadata": {},
   "source": [
    "## Dashboard Interactivity\n",
    "Set up the `Widgets` and `Binds` used to drive the dashboard interactivity.\n",
    "\n",
    "`Widgets` are the controls that the user interacts with (sensitivity sliders, CC selector drop-down list, and the \"Update\" and \"Save\" buttons).\n",
    "\n",
    "`Binds` are functions that bind the value of a `Widget` to a certain function (in this case a dynamic plot). The function for updating the tabbed plots when the user presses the \"Update\" button comes later, after the app is assembled."
   ]
  },
  {
   "cell_type": "code",
   "execution_count": null,
   "metadata": {},
   "outputs": [],
   "source": [
    "# WIDGETS\n",
    "# Dropdown for selecting CC to plot\n",
    "dropdown_options = list(np.sort(unique_ccs.astype(int)))\n",
    "cc_select = pn.widgets.Select(options=dropdown_options, width=75, name='CC Select', description='Select a CC to view features.')\n",
    "\n",
    "# Slider for max sensitivity\n",
    "sens_slider_max = pn.widgets.IntSlider(name = 'Max. Feature Sensitivity, 10^',\n",
    "                                       start = int(np.ceil(min(ccs['max_feat_sensitivity']))),\n",
    "                                       end = 0,\n",
    "                                       step = 1,\n",
    "                                       value = 0,\n",
    "                                       bar_color='#ffffff'\n",
    "                                       )\n",
    "\n",
    "# create list of min options\n",
    "if len(np.floor(ccs['min_feat_sensitivity'][np.isinf(ccs['min_feat_sensitivity'])==False])) == 0:\n",
    "    slider_options = [-np.inf]\n",
    "else:\n",
    "    slider_options = [-np.inf]\n",
    "    for i in range(int(min(np.floor(ccs['min_feat_sensitivity'][np.isinf(ccs['min_feat_sensitivity'])==False]))), 1):\n",
    "        slider_options.append(int(i))\n",
    "\n",
    "sens_slider_min = pn.widgets.DiscreteSlider(name = 'Min. Feature Sensitivity, 10^',\n",
    "                                            options = slider_options,\n",
    "                                            value = -np.inf\n",
    "                                            )\n",
    "\n",
    "# Tab plot update button\n",
    "update_button = pn.widgets.Button(name='Update',\n",
    "                                  button_type='default',\n",
    "                                  description='Update tabbed plots')\n",
    "\n",
    "# Button to save to HTML\n",
    "save_to_html_button = pn.widgets.Button(name='Save',\n",
    "                                        button_type='success',\n",
    "                                        description='Save dashboard to HTML file')\n",
    "\n",
    "def save_to_html(dashboard):\n",
    "    dashboard.save('TEVA_dashboard.html')\n",
    "\n",
    "\n",
    "# BINDS\n",
    "# Bind function to widget\n",
    "dynamic_subplots = pn.bind(teva_plot.feature_plotter, cc_select, data, cc_features, feature_values_by_cc)\n",
    "dynamic_confusion_matrix = pn.bind(teva_plot.confusion_matrix_plotter, cc_select, ccs)\n",
    "dynamic_cc = pn.bind(teva_plot.cc_plotter, sens_slider_min, sens_slider_max, fitness, x_fit, y_fit, z_fit, contour_colors, cc_plot_data, cc_len, cc_plot_source, cc_colors, ccs, dnf_len, dnf_plot_data, dnf_plot_source, dnf_colors, dnfs)\n",
    "\n",
    "# Initial Tabbed plots\n",
    "cc_heatmap = teva_plot.cc_heatmap_plotter(cc_heatmap_colormap, unique_features, cc_features, cc_plot_data, sens_slider_min, sens_slider_max)\n",
    "cc_feature_usage = teva_plot.cc_feature_usage_plot(ccs, cc_plot_data, cc_features, all_features_flat, cat_map, cc_len, sens_slider_min, sens_slider_max)\n",
    "dnf_usage = teva_plot.dnf_usage_plot(dnfs, dnf_plot_data, cc_plot_data, all_ccs, all_ccs_flat, cat_map, dnf_len, sens_slider_min, sens_slider_max)\n",
    "\n",
    "tab1 = TabPanel(child=cc_heatmap, title='Feature Pairing')\n",
    "tab2 = TabPanel(child=cc_feature_usage, title='CC: Feature Usage')\n",
    "tab3 = TabPanel(child=dnf_usage, title='DNF: CC Usage')"
   ]
  },
  {
   "cell_type": "markdown",
   "metadata": {},
   "source": [
    "## Dashboard Layout\n",
    "- Layout the dashboard elements. You can change stylistic elements if you desire.\n",
    "- Define function to update tabbed plots when the \"Update\" button is clicked.\n",
    "- Launch the dashboard in a web browser using local server."
   ]
  },
  {
   "cell_type": "code",
   "execution_count": null,
   "metadata": {},
   "outputs": [],
   "source": [
    "controls_style = {\n",
    "    'background': 'cornflowerblue',\n",
    "    'border': '1px solid black',\n",
    "    'padding': '10px'\n",
    "}\n",
    "\n",
    "app = pn.Column(\n",
    "    '# TEVA Output Explorer',\n",
    "    pn.Row('## Controls', sens_slider_min, sens_slider_max, cc_select, update_button, save_to_html_button, height=70, width=1000, styles=controls_style, width_policy='max'),\n",
    "    pn.Row(dynamic_cc, dynamic_subplots),\n",
    "    pn.Row(Tabs(tabs=[tab1, tab2, tab3]), dynamic_confusion_matrix))\n",
    "\n",
    "print(app)"
   ]
  },
  {
   "cell_type": "code",
   "execution_count": null,
   "metadata": {},
   "outputs": [],
   "source": [
    "# Update Tab figures on button click\n",
    "def update_tab(event):\n",
    "    '''\n",
    "    Updates tabbed plots on button click.\n",
    "    '''\n",
    "    cc_heatmap = teva_plot.cc_heatmap_plotter(cc_heatmap_colormap, unique_features, cc_features, cc_plot_data, sens_slider_min, sens_slider_max)\n",
    "    cc_feature_usage = teva_plot.cc_feature_usage_plot(ccs, cc_plot_data, cc_features, all_features_flat, cat_map, cc_len, sens_slider_min, sens_slider_max)\n",
    "    dnf_usage = teva_plot.dnf_usage_plot(dnfs, dnf_plot_data, cc_plot_data, all_ccs, all_ccs_flat, cat_map, dnf_len, sens_slider_min, sens_slider_max)\n",
    "\n",
    "    tab1 = TabPanel(child=cc_heatmap, title='Feature Pairing')\n",
    "    tab2 = TabPanel(child=cc_feature_usage, title='CC: Feature Usage')\n",
    "    tab3 = TabPanel(child=dnf_usage, title='DNF: CC Usage')\n",
    "    \n",
    "    app[3][0] = Tabs(tabs=[tab1, tab2, tab3])\n",
    "\n",
    "update_button.on_click(update_tab)\n",
    "\n",
    "update_tab(None)"
   ]
  },
  {
   "cell_type": "code",
   "execution_count": null,
   "metadata": {},
   "outputs": [],
   "source": [
    "# Run dashboard in browser\n",
    "app.show()"
   ]
  }
 ],
 "metadata": {
  "kernelspec": {
   "display_name": "Holoviews",
   "language": "python",
   "name": "python3"
  },
  "language_info": {
   "codemirror_mode": {
    "name": "ipython",
    "version": 3
   },
   "file_extension": ".py",
   "mimetype": "text/x-python",
   "name": "python",
   "nbconvert_exporter": "python",
   "pygments_lexer": "ipython3",
   "version": "3.12.8"
  }
 },
 "nbformat": 4,
 "nbformat_minor": 2
}
