{
 "cells": [
  {
   "cell_type": "code",
   "execution_count": 175,
   "metadata": {},
   "outputs": [],
   "source": [
    "# Base packages\n",
    "import numpy as np\n",
    "import pandas as pd\n",
    "import matplotlib.pyplot as plt\n",
    "\n",
    "from bokeh.plotting import figure, show\n",
    "from bokeh.models import ColumnDataSource\n",
    "\n",
    "from mpl_toolkits.axes_grid1 import make_axes_locatable\n",
    "\n",
    "# Custom post processing functions\n",
    "import TEVA_Post_Processing as post"
   ]
  },
  {
   "cell_type": "code",
   "execution_count": 176,
   "metadata": {},
   "outputs": [],
   "source": [
    "# Import CC and DNF output files\n",
    "ccs = pd.read_excel('ccs_2DOC_CAMELS.xlsx', sheet_name='CCEA_Low')\n",
    "dnfs = pd.read_excel('dnfs_2DOC_CAMELS.xlsx', sheet_name='DNFEA_Low')\n",
    "\n",
    "# Import observation data\n",
    "data = pd.read_csv('test_observations.csv')"
   ]
  },
  {
   "cell_type": "code",
   "execution_count": 177,
   "metadata": {},
   "outputs": [],
   "source": [
    "# List of the CCs composing each DNF\n",
    "all_ccs = post.parse_dnf(dnfs)\n",
    "all_ccs_flat = post.flatten(all_ccs)\n",
    "\n",
    "# List of the features composing each CC\n",
    "cc_features = post.parse_cc(ccs)\n",
    "\n",
    "# List of the unique CCs across all DNFs\n",
    "# unique_ccs = (np.unique(all_ccs_flat))\n",
    "\n",
    "# Fitness contours\n",
    "# x_fit, y_fit, z_fit, fitness = post.fitness_contours(1000, dnfs, ccs)\n",
    "\n",
    "# CC and DNF lengths (needed later for plotting)\n",
    "# cc_len = np.arange(1, max(ccs['order']) + 1, 1)\n",
    "# dnf_len = np.arange(1, max(dnfs['order']) + 1, 1)"
   ]
  },
  {
   "cell_type": "code",
   "execution_count": 178,
   "metadata": {},
   "outputs": [],
   "source": [
    "unique_features = pd.unique(post.flatten(cc_features))"
   ]
  },
  {
   "cell_type": "code",
   "execution_count": 179,
   "metadata": {},
   "outputs": [],
   "source": [
    "'''\n",
    "This function goes through the CC features and builds a \"correlation\" - style matrix\n",
    "that shows how many times each feature appears in a CC with each other feature.\n",
    "    Inputs: list of unique features\n",
    "            cc_features\n",
    "\n",
    "    Output: 2d matrix\n",
    "'''\n",
    "\n",
    "matrix = np.zeros((len(unique_features), len(unique_features)))\n",
    "\n",
    "# select the first feature\n",
    "for i in range(0, len(unique_features)):\n",
    "    # select the second feature\n",
    "    for j in range(0, len(unique_features)):\n",
    "        # pass if same feature is selected\n",
    "        if unique_features[i] == unique_features[j]:\n",
    "            pass\n",
    "        else:\n",
    "            # loop through cc_features\n",
    "            for k in range(0, len(cc_features)):\n",
    "                # pass for all order 1 CCs\n",
    "                if len(cc_features[k]) == 1:\n",
    "                    pass\n",
    "                else:\n",
    "                    # check if first feature is in the cc\n",
    "                    if unique_features[i] in cc_features[k]:\n",
    "                        # check if second feature is in the cc\n",
    "                        if unique_features[j] in cc_features[k]:\n",
    "                            matrix[i,j] += 1\n"
   ]
  },
  {
   "cell_type": "code",
   "execution_count": 180,
   "metadata": {},
   "outputs": [],
   "source": [
    "def CC_usage_heatmap(unique_features, cc_features):\n",
    "    '''\n",
    "    This function goes through the CC features and builds a \"correlation\" - style matrix\n",
    "    that shows how many times each feature appears in a CC with each other feature.\n",
    "        Inputs: list of unique features\n",
    "                cc_features\n",
    "\n",
    "        Output: 2d matrix\n",
    "    '''\n",
    "\n",
    "    matrix = np.zeros((len(unique_features), len(unique_features)))\n",
    "\n",
    "    # select the first feature\n",
    "    for i in range(0, len(unique_features)):\n",
    "        # select the second feature\n",
    "        for j in range(0, len(unique_features)):\n",
    "            # pass if same feature is selected\n",
    "            if unique_features[i] == unique_features[j]:\n",
    "                pass\n",
    "            else:\n",
    "                # loop through cc_features\n",
    "                for k in range(0, len(cc_features)):\n",
    "                    # pass for all order 1 CCs\n",
    "                    if len(cc_features[k]) == 1:\n",
    "                        pass\n",
    "                    else:\n",
    "                        # check if first feature is in the cc\n",
    "                        if unique_features[i] in cc_features[k]:\n",
    "                            # check if second feature is in the cc\n",
    "                            if unique_features[j] in cc_features[k]:\n",
    "                                matrix[i,j] += 1\n",
    "    \n",
    "    matrix[np.triu_indices_from(matrix, k=0)] = np.nan\n",
    "    \n",
    "    return matrix"
   ]
  },
  {
   "cell_type": "code",
   "execution_count": 181,
   "metadata": {},
   "outputs": [],
   "source": [
    "cc_matrix = CC_usage_heatmap(unique_features, cc_features)"
   ]
  },
  {
   "cell_type": "code",
   "execution_count": 182,
   "metadata": {},
   "outputs": [],
   "source": [
    "# #### Figure\n",
    "# fig, ax = plt.subplots(figsize=(5,5), dpi=300, layout='constrained')\n",
    "\n",
    "# #### Plot\n",
    "# im = plt.imshow(cc_matrix,\n",
    "#                 cmap='Blues')\n",
    "\n",
    "# #### Colorbar\n",
    "# cbar = ax.figure.colorbar(im, ax=ax, shrink=0.65)\n",
    "# cbar.ax.set_ylabel('Title???', rotation=-90, va='bottom')\n",
    "\n",
    "# #### Axes\n",
    "# # turn off spines\n",
    "# ax.spines[:].set_visible(False)\n",
    "# # label ticks\n",
    "# ax.set_xticks(range(unique_features.shape[0]), labels=unique_features, rotation=90)\n",
    "# ax.set_yticks(range(unique_features.shape[0]), labels=unique_features)\n",
    "# # set up white grid\n",
    "# ax.set_xticks(np.arange(unique_features.shape[0]+1)-.5, minor=True)\n",
    "# ax.set_yticks(np.arange(unique_features.shape[0]+1)-.5, minor=True)\n",
    "# ax.grid(which='minor', color='w', linestyle='-', linewidth=0.5)\n",
    "# ax.tick_params(which='minor', bottom=False, left=False)\n",
    "# plt.gca().set_aspect('equal', adjustable='box')\n"
   ]
  },
  {
   "cell_type": "code",
   "execution_count": 183,
   "metadata": {},
   "outputs": [],
   "source": [
    "image_data = {\n",
    "    'image': [cc_matrix],\n",
    "    'x': [0],\n",
    "    'y': [0],\n",
    "    'dw': [len(unique_features)],\n",
    "    'dh': [len(unique_features)]\n",
    "}\n",
    "\n",
    "image_data = ColumnDataSource(data=image_data)"
   ]
  },
  {
   "cell_type": "code",
   "execution_count": 184,
   "metadata": {},
   "outputs": [],
   "source": [
    "image_hover = [\n",
    "    ('Count', '@image')\n",
    "]\n",
    "\n",
    "p = figure(height=400,\n",
    "           aspect_ratio=1,\n",
    "           x_range=unique_features,\n",
    "           y_range=unique_features,\n",
    "        #    sizing_mode='stretch_both',\n",
    "           match_aspect=True,\n",
    "           tools='hover',\n",
    "           tooltips=image_hover)\n",
    "\n",
    "img = p.image(source=image_data, x='x', y='y', dw='dw', dh='dh', palette='Viridis256')\n",
    "\n",
    "# color for nan values\n",
    "img.glyph.color_mapper.nan_color = (0, 0, 0, 0)\n",
    "\n",
    "# rotate x labels\n",
    "p.xaxis.major_label_orientation = 'vertical'\n",
    "\n",
    "# turn off grid\n",
    "p.xgrid.visible = False\n",
    "p.ygrid.visible = False\n",
    "\n",
    "show(p)"
   ]
  }
 ],
 "metadata": {
  "kernelspec": {
   "display_name": "Holoviews",
   "language": "python",
   "name": "python3"
  },
  "language_info": {
   "codemirror_mode": {
    "name": "ipython",
    "version": 3
   },
   "file_extension": ".py",
   "mimetype": "text/x-python",
   "name": "python",
   "nbconvert_exporter": "python",
   "pygments_lexer": "ipython3",
   "version": "3.12.8"
  }
 },
 "nbformat": 4,
 "nbformat_minor": 2
}
