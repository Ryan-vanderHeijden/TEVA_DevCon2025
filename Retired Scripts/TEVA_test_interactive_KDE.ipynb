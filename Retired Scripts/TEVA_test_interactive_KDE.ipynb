{
  "cells": [
    {
      "cell_type": "markdown",
      "metadata": {},
      "source": [
        "Interactive CC Feature KDE Plots"
      ]
    },
    {
      "cell_type": "code",
      "execution_count": null,
      "metadata": {
        "id": "8yyYt82Mv1Kt"
      },
      "outputs": [],
      "source": [
        "# Base Packages\n",
        "import numpy as np\n",
        "import pandas as pd\n",
        "import holoviews as hv\n",
        "import hvplot.pandas\n",
        "from bokeh.io import output_notebook\n",
        "\n",
        "output_notebook()\n",
        "hv.extension('bokeh')\n",
        "\n",
        "import panel as pn\n",
        "pn.extension(throttled=True)"
      ]
    },
    {
      "cell_type": "code",
      "execution_count": null,
      "metadata": {
        "id": "bEt3NA5Gv1Ku"
      },
      "outputs": [],
      "source": [
        "# Import TEVA output files\n",
        "ccs = pd.read_excel('ccs_2DOC_CAMELS.xlsx', sheet_name='CCEA_Low')\n",
        "dnfs = pd.read_excel('dnfs_2DOC_CAMELS.xlsx', sheet_name='DNFEA_Low')\n",
        "# Import observation data\n",
        "data = pd.read_csv('test_observations.csv')\n",
        "# Grab feature names from the CC output\n",
        "feature_names = list(data.columns)"
      ]
    },
    {
      "cell_type": "code",
      "execution_count": null,
      "metadata": {
        "id": "8_bDDgRlv1Ku"
      },
      "outputs": [],
      "source": [
        "# Functions\n",
        "def flatten(xss):\n",
        "    '''\n",
        "    Flattens a list of lists.\n",
        "    '''\n",
        "    return np.array([x for xs in xss for x in xs])\n",
        "\n",
        "\n",
        "def parse_dnf(dnfs):\n",
        "    '''\n",
        "    Creates a list of the ccs composing each dnf.\n",
        "    '''\n",
        "    all_ccs = []\n",
        "    for i in range(0, len(dnfs['mask'])):\n",
        "        item = dnfs.iloc[i].iloc[12:]\n",
        "        item_ccs = item[item==1].index.values.tolist()\n",
        "        item_ccs = list(map(lambda j: j[3:], item_ccs))\n",
        "        all_ccs.append(item_ccs)\n",
        "    return all_ccs\n",
        "\n",
        "\n",
        "def parse_cc(ccs):\n",
        "    '''\n",
        "    Creates a list of the features composing each cc.\n",
        "    '''\n",
        "    cc_features = []\n",
        "    for i in range(0, len(ccs)):\n",
        "        cc_values = ccs.iloc[i].iloc[12:]\n",
        "        cc_values.fillna(value = 0, method=None, inplace=True)\n",
        "        cc_values = dict(cc_values[cc_values != 0])\n",
        "        cc_features.append(list(cc_values.keys()))\n",
        "    return cc_features\n",
        "\n",
        "\n",
        "# def fitness_contours(n_grid, dnfs, ccs):\n",
        "#     '''\n",
        "#     Interpolate fitness values within plot domain using linear triangular interpolator.\n",
        "    \n",
        "#         n_grid      number of grid points\n",
        "#         dnfs        TEVA dnf output excel file\n",
        "#         ccs         TEVA cc output excel file\n",
        "\n",
        "#     Returns:\n",
        "#         x           x coordinates of mesh\n",
        "#         y           y coordinates of mesh\n",
        "#         z           interpolated fitness masked array\n",
        "\n",
        "#     Can be passed into the Bokeh contour renderer. Example:\n",
        "#                 # fitness contours\n",
        "#                 # x, y, z = fitness_contours(1000, dnfs, ccs)\n",
        "#     '''\n",
        "#     x = np.linspace(0, 1, n_grid)\n",
        "#     y = np.linspace(0, 1, n_grid)\n",
        "#     xplot, yplot = np.meshgrid(x, y)\n",
        "#     triangles = tri.Triangulation(pd.concat([dnfs['cov'],ccs['cov']]),\n",
        "#                                   pd.concat([dnfs['ppv'], ccs['ppv']]))\n",
        "#     fitness = pd.concat([dnfs['fitness'], ccs['fitness']])\n",
        "#     interpolator = tri.LinearTriInterpolator(triangles, fitness)\n",
        "#     z = interpolator(xplot, yplot)\n",
        "\n",
        "#     return (x, y, z)\n"
      ]
    },
    {
      "cell_type": "code",
      "execution_count": null,
      "metadata": {
        "id": "f_w3gj4VEuHy"
      },
      "outputs": [],
      "source": [
        "# ccs composing each dnf\n",
        "all_ccs = flatten(parse_dnf(dnfs))\n",
        "\n",
        "# features composing each cc\n",
        "cc_features = parse_cc(ccs)\n",
        "\n",
        "# flatten lists\n",
        "# all_ccs_flat = flatten(all_ccs)\n",
        "# cc_features_flat = flatten(cc_features)\n",
        "\n",
        "# unique lists\n",
        "unique_ccs = (np.unique(all_ccs))\n",
        "# unique_features = (np.unique(cc_features_flat))"
      ]
    },
    {
      "cell_type": "code",
      "execution_count": null,
      "metadata": {},
      "outputs": [],
      "source": [
        "# Function for updating plots\n",
        "def feature_plotter(selected_cc):\n",
        "    fig = []\n",
        "    for i in range(len(cc_features[selected_cc])):\n",
        "        fig.append(data[cc_features[selected_cc][i]].dropna().hvplot.kde(height=200, width=300, hover=False))\n",
        "        fig[i].opts(shared_axes=False, toolbar=None)\n",
        "    return pn.FlexBox(objects=fig)\n",
        "\n",
        "# Widget for selecting CC to plot\n",
        "dropdown_options = list(np.sort(unique_ccs.astype(int)))\n",
        "cc_select = pn.widgets.Select(options=dropdown_options, width=75, name='CC', description='Select a CC to view features.')\n",
        "\n",
        "# Bind function to widget\n",
        "dynamic_subplots = pn.bind(feature_plotter, cc_select)\n",
        "\n",
        "# Create layout\n",
        "app = pn.Row(cc_select, dynamic_subplots)\n",
        "\n",
        "app.show()\n"
      ]
    },
    {
      "cell_type": "code",
      "execution_count": null,
      "metadata": {},
      "outputs": [],
      "source": [
        "# scratch\n",
        "print(app)"
      ]
    }
  ],
  "metadata": {
    "colab": {
      "provenance": []
    },
    "kernelspec": {
      "display_name": "Holoviews",
      "language": "python",
      "name": "python3"
    },
    "language_info": {
      "codemirror_mode": {
        "name": "ipython",
        "version": 3
      },
      "file_extension": ".py",
      "mimetype": "text/x-python",
      "name": "python",
      "nbconvert_exporter": "python",
      "pygments_lexer": "ipython3",
      "version": "3.12.8"
    }
  },
  "nbformat": 4,
  "nbformat_minor": 0
}
