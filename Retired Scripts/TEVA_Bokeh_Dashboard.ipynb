{
  "cells": [
    {
      "cell_type": "markdown",
      "metadata": {
        "id": "6Jjk-IGOypqh"
      },
      "source": [
        "# **TEVA Post-Processing**\n",
        "*Notebook by Ryan van der Heijden  |  rvanderh@uvm.edu*\n",
        "\n",
        "The goal of this notebook is to facilitate interpretation of the TEVA model output files. The notebook walks the user through the development of an interactive dashboard using the *Bokeh* package which allows them to investigate the CCs and DNFs more easily than dealing with the raw output files. *Bokeh* creates a html dashboard that can contain multiple interactive plots, tables, etc. that can be saved to return to later without re-processing.\n",
        "\n",
        "**This notebook is divided into four main sections:**\n",
        "1.   Import Packages and TEVA Output Files\n",
        "2.   Process TEVA Output Files\n",
        "3.   Build *Bokeh* Plot Structures\n",
        "4.   Create *Bokeh* Dashboard\n",
        "\n",
        "**The resulting dashboard contains four main components:**\n",
        "1.   Plot of positive predictive value vs. coverage with fitness contours\n",
        "2.   Table showing the features in each CC\n",
        "3.   Plot showing feature usage (\"popularity\") across all CCs\n",
        "4.   Plot showing CC usage across all DNFs"
      ]
    },
    {
      "cell_type": "markdown",
      "metadata": {
        "id": "ziHMuAoiv33E"
      },
      "source": [
        "# (1) Import Packages and TEVA Output Files\n",
        "*   Import base packages and Bokeh modules that will be used to visualizing the TEVA output.\n",
        "*   Set plot dimensions.\n",
        "*   Import the CC and DNF output files from TEVA.\n",
        "\n",
        "Note that the TEVA output files are Excel spreadsheets, so we need to specify the sheet number to import. The sheet number coresponds to the output class in the algorithm.\n",
        "\n",
        "In-line plotting will be used for this demonstration, but this can be commented-out to open the figure in it's own window."
      ]
    },
    {
      "cell_type": "code",
      "execution_count": null,
      "metadata": {
        "id": "8yyYt82Mv1Kt"
      },
      "outputs": [],
      "source": [
        "# Base Packages\n",
        "import numpy as np\n",
        "import pandas as pd\n",
        "import matplotlib.pyplot as plt\n",
        "from matplotlib import colors\n",
        "import matplotlib.tri as tri\n",
        "\n",
        "# Bokeh Imports\n",
        "from bokeh.io import output_notebook\n",
        "from bokeh.plotting import figure, show\n",
        "from bokeh.layouts import column, row\n",
        "from bokeh.models import ColumnDataSource, CDSView, GroupFilter, NumeralTickFormatter, TableColumn, DataTable, Div, TabPanel, Tabs\n",
        "from bokeh.transform import linear_cmap\n",
        "from bokeh.models import HoverTool\n",
        "from bokeh.palettes import varying_alpha_palette, Category20\n",
        "\n",
        "# Set Bokeh to use inline plotting\n",
        "output_notebook()\n",
        "\n",
        "# set up plot dimensions (of main plot)\n",
        "h = 800     # height in pixels\n",
        "w = 900     # width in pixels"
      ]
    },
    {
      "cell_type": "code",
      "execution_count": null,
      "metadata": {
        "id": "bEt3NA5Gv1Ku"
      },
      "outputs": [],
      "source": [
        "# Import TEVA output files\n",
        "ccs = pd.read_excel('ccs_2DOC_CAMELS.xlsx', sheet_name='CCEA_Low')\n",
        "dnfs = pd.read_excel('dnfs_2DOC_CAMELS.xlsx', sheet_name='DNFEA_Low')"
      ]
    },
    {
      "cell_type": "markdown",
      "metadata": {
        "id": "N1-AFQYMxeE6"
      },
      "source": [
        "# (2) Process TEVA Output Files\n",
        "*   Create lists of the features associated with each CC and the CCs associated with each DNF.\n",
        "*   Creat DataFrame containing feature counts sorted by CC order.\n",
        "*   Create DataFrame containing CC counts sorted by DNF order.\n",
        "*   Create custom color maps for plotting CCs, DNFs, and fitness contours.\n",
        "*   Create fitness contours.\n",
        "\n"
      ]
    },
    {
      "cell_type": "code",
      "execution_count": null,
      "metadata": {
        "id": "8_bDDgRlv1Ku"
      },
      "outputs": [],
      "source": [
        "# Build a dataframe containing features and ranges for each dnf\n",
        "'''\n",
        "Each DNF is composed of several CCs, depending on the order. Each CC contains multiple features.\n",
        "Build a dataframe that will hold all the CCs and the features they are composed of for each DNF.\n",
        "'''\n",
        "# Grab feature names from the CC output\n",
        "feature_names = list(ccs.columns[12:])\n",
        "\n",
        "# For each DNF, find the associated CCs and then their variables and ranges\n",
        "all_ccs = []\n",
        "for j in range(0, len(dnfs['mask'])):\n",
        "    item = dnfs.iloc[j].iloc[12:]\n",
        "    item_ccs = item[item==1].index.values.tolist()\n",
        "    item_ccs = list(map(lambda i: i[3:], item_ccs))\n",
        "    all_ccs.append(item_ccs)\n",
        "\n",
        "# For each cc, build a dictionary containing the features as keys and feature ranges as values.\n",
        "cc_features = []\n",
        "for j in range(0, len(ccs)):\n",
        "    cc_values = ccs.iloc[j].iloc[12:]\n",
        "    cc_values.fillna(value = 0, method=None, inplace=True)\n",
        "    cc_values = dict(cc_values[cc_values != 0])\n",
        "    # cc_features.append(cc_values)\n",
        "    cc_features.append(list(cc_values.keys()))"
      ]
    },
    {
      "cell_type": "code",
      "execution_count": null,
      "metadata": {
        "id": "f_w3gj4VEuHy"
      },
      "outputs": [],
      "source": [
        "# Count how many times each CC shows up in a DNF\n",
        "# Function to flatten list of lists\n",
        "def flatten(xss):\n",
        "    return [x for xs in xss for x in xs]\n",
        "\n",
        "all_ccs_flat = np.array(flatten(all_ccs))\n",
        "unique_ccs = list(np.unique(all_ccs_flat))\n",
        "\n",
        "# Loop through cc_features and get count\n",
        "cc_counts = []\n",
        "for i in range(len(unique_ccs)):\n",
        "    cc_counts.append(np.count_nonzero(all_ccs_flat==unique_ccs[i]))"
      ]
    },
    {
      "cell_type": "code",
      "execution_count": null,
      "metadata": {
        "id": "o5Eb92yON2e6"
      },
      "outputs": [],
      "source": [
        "# Count how many times each feature shows up in a CC\n",
        "# Flatten to get all features used by CCs\n",
        "cc_features_flat = np.array(flatten(cc_features))\n",
        "unique_features = list(np.unique(cc_features_flat))\n",
        "\n",
        "# Loop through cc_features and get count\n",
        "feature_counts = []\n",
        "for i in range(len(unique_features)):\n",
        "    feature_counts.append(np.count_nonzero(cc_features_flat==unique_features[i]))"
      ]
    },
    {
      "cell_type": "code",
      "execution_count": null,
      "metadata": {
        "id": "gpVYjUv7ZJjC"
      },
      "outputs": [],
      "source": [
        "#%% Construct stacked feature data\n",
        "# CC order\n",
        "cc_len = np.arange(1, max(ccs['order']) + 1 , 1)\n",
        "cc_col_names = ['Feature']\n",
        "\n",
        "for j in range(len(cc_len)):\n",
        "    cc_col_names.append('Order ' + str(j+1))\n",
        "\n",
        "cc_col_names.append('Total')\n",
        "feature_order = pd.DataFrame(columns=cc_col_names)\n",
        "feature_order['Feature'] = unique_features\n",
        "feature_order['Total'] = feature_counts\n",
        "\n",
        "# List subset by length\n",
        "for k in range(len(cc_len)):\n",
        "    # subset cc_features by order\n",
        "    subset = [sublist for sublist in cc_features if len(sublist) == cc_len[k]]\n",
        "    subset = np.array(flatten(subset))\n",
        "\n",
        "    for i in range(len(unique_features)):\n",
        "        feature_order.loc[i, 'Order ' + str(k+1)] = np.count_nonzero(subset==unique_features[i])\n",
        "\n",
        "feature_order.sort_values(by=['Total'], ascending=False, inplace=True)\n",
        "feature_order.drop(columns=['Total'], inplace=True)\n",
        "stack_plot_feature = dict(feature_order)\n",
        "stack_names_feature = cc_col_names[1:-1]"
      ]
    },
    {
      "cell_type": "code",
      "execution_count": null,
      "metadata": {
        "id": "ZXwzX3SJhSrt"
      },
      "outputs": [],
      "source": [
        "#%% Construct stacked CC data\n",
        "# DNF order\n",
        "dnf_len = np.arange(1, max(dnfs['order']) + 1 , 1)\n",
        "dnf_col_names = ['CC']\n",
        "\n",
        "for j in range(len(dnf_len)):\n",
        "    dnf_col_names.append('Order ' + str(j+1))\n",
        "\n",
        "dnf_col_names.append('Total')\n",
        "cc_order = pd.DataFrame(columns=dnf_col_names)\n",
        "cc_order['CC'] = unique_ccs\n",
        "cc_order['Total'] = cc_counts\n",
        "\n",
        "# List subset by length\n",
        "for k in range(len(dnf_len)):\n",
        "    # subset by order\n",
        "    subset = [sublist for sublist in all_ccs if len(sublist) == dnf_len[k]]\n",
        "    subset = np.array(flatten(subset))\n",
        "\n",
        "    for i in range(len(unique_ccs)):\n",
        "        cc_order.loc[i, 'Order ' + str(k+1)] = np.count_nonzero(subset==unique_ccs[i])\n",
        "\n",
        "cc_order.sort_values(by=['Total'], ascending=False, inplace=True)\n",
        "cc_order.drop(columns=['Total'], inplace=True)\n",
        "stack_plot_cc = dict(cc_order)\n",
        "stack_names_cc = dnf_col_names[1:-1]"
      ]
    },
    {
      "cell_type": "code",
      "execution_count": null,
      "metadata": {
        "id": "ce0nDpVIv1Kv"
      },
      "outputs": [],
      "source": [
        "# Custom color maps\n",
        "'''\n",
        "Create custom colormaps, one for CCs, one from DNFs, and one for fitness contours.\n",
        "Colormaps can range from 0 to 256, but it is best to trim the lightest and darkest portions out.\n",
        "'''\n",
        "cc_colors = []\n",
        "dnf_colors = []\n",
        "\n",
        "# CCs and DNFs\n",
        "for i in range(20,220):\n",
        "    cc_colors.append(colors.rgb2hex(plt.get_cmap('Blues_r')(i)))\n",
        "    dnf_colors.append(colors.rgb2hex(plt.get_cmap('Oranges_r')(i)))\n",
        "\n",
        "# Fitness contours\n",
        "contour_colors = varying_alpha_palette(color='black', start_alpha=150, end_alpha=10)"
      ]
    },
    {
      "cell_type": "code",
      "execution_count": null,
      "metadata": {
        "id": "QC6jAaqbv1Kv"
      },
      "outputs": [],
      "source": [
        "# Fitness Contour Interpolation\n",
        "'''\n",
        "Since the fitness values are irregularly spaced, need to set up a gride and interpolate\n",
        "fitness values within the plot domain in order to plot fitness contours. Use matplotlib\n",
        "linear triangular interpolator.\n",
        "'''\n",
        "n_grid = min(h, w)  # set grid size to min plot size\n",
        "x_i = np.linspace(0, 1, n_grid)\n",
        "y_i = np.linspace(0, 1, n_grid)\n",
        "xplot, yplot = np.meshgrid(x_i, y_i)\n",
        "triangles = tri.Triangulation(pd.concat([dnfs['cov'],ccs['cov']]),\n",
        "                              pd.concat([dnfs['ppv'], ccs['ppv']]))\n",
        "fitness = pd.concat([dnfs['fitness'], ccs['fitness']])\n",
        "interpolator = tri.LinearTriInterpolator(triangles, fitness)\n",
        "z_i = interpolator(xplot, yplot)"
      ]
    },
    {
      "cell_type": "markdown",
      "metadata": {
        "id": "mi9umvij0qnx"
      },
      "source": [
        "# (3) Build *Bokeh* Plot Structures\n",
        "Create ColumnDataSource structures for CCs, DNFs, and fitness contours."
      ]
    },
    {
      "cell_type": "code",
      "execution_count": null,
      "metadata": {
        "id": "u2iSoR4iv1Kv"
      },
      "outputs": [],
      "source": [
        "# Bokeh Data Sources\n",
        "'''\n",
        "Bokeh uses a data structure called a \"Column Data Source\" (CDS) for plotting.\n",
        "The easiest way to create them with your data is by passing your data as a disctionary.\n",
        "'''\n",
        "\n",
        "# column data source for CCs\n",
        "cc_plot_data = {'x_values': ccs['cov'],\n",
        "                'y_values': ccs['ppv'],\n",
        "                'CC': ccs['Unnamed: 0'],\n",
        "                'Order': ccs['order'],\n",
        "                'Features': cc_features}\n",
        "cc_plot_source = ColumnDataSource(data=cc_plot_data)\n",
        "\n",
        "# column data source for DNFs\n",
        "dnf_plot_data = {'x_values': dnfs['cov'],\n",
        "                 'y_values': dnfs['ppv'],\n",
        "                 'Order': dnfs['order'],\n",
        "                 'DNF': dnfs['Unnamed: 0'],\n",
        "                 'CCs': all_ccs}\n",
        "dnf_plot_source = ColumnDataSource(data=dnf_plot_data)\n",
        "\n",
        "# column data source for fitness contours\n",
        "dnf_cont_data = {'x_values': x_i,\n",
        "                 'y_values': y_i,\n",
        "                 'z_values': z_i}\n",
        "dnf_cont_source = ColumnDataSource(dnf_cont_data)\n",
        "\n",
        "# column data source for CC feature table\n",
        "table_data = pd.DataFrame(data=cc_features, columns=cc_col_names[1:-1])\n",
        "table_source = ColumnDataSource(table_data)\n",
        "columns = []\n",
        "for j in range(len(cc_len)):\n",
        "    columns.append(TableColumn(field=table_data.columns[j], title=table_data.columns[j]))"
      ]
    },
    {
      "cell_type": "markdown",
      "metadata": {
        "id": "lYzVbEab1mf4"
      },
      "source": [
        "# (4) Create *Bokeh* Dashboard\n",
        "Create and show the interactive dashboard."
      ]
    },
    {
      "cell_type": "code",
      "execution_count": null,
      "metadata": {
        "colab": {
          "base_uri": "https://localhost:8080/",
          "height": 936
        },
        "id": "Qnn9-2J5v1Kv",
        "outputId": "3f97a4e7-de5e-48ab-dee3-7035266df06e"
      },
      "outputs": [],
      "source": [
        "# Bokeh Figure Setup\n",
        "# tooltips to display when you hover over a data point\n",
        "dnf_TOOLS = [\n",
        "    ('DNF #', '@DNF'),\n",
        "    ('Order', '@Order'),\n",
        "    ('PPV', '@y_values'),\n",
        "    ('COV', '@x_values'),\n",
        "    ('CCs', '@CCs')]\n",
        "\n",
        "cc_TOOLS = [\n",
        "    ('CC #', '@CC'),\n",
        "    ('Order', '@Order'),\n",
        "    ('PPV', '@y_values'),\n",
        "    ('COV', '@x_values'),\n",
        "    ('Features', '@Features')]\n",
        "\n",
        "#### Figure 1\n",
        "p1 = figure(width = w, height = h,\n",
        "           y_range=(0,1.05),\n",
        "           x_range=(0,1.05),\n",
        "           x_axis_label='Observation Coverage',\n",
        "           y_axis_label='Positive Predictive Value',\n",
        "           hidpi=True,\n",
        "           tools='crosshair, pan, tap, wheel_zoom, zoom_in, zoom_out, box_zoom, undo, redo, reset, save, lasso_select, help')\n",
        "\n",
        "cont_levels = np.linspace(min(fitness), max(fitness), 10)\n",
        "contour_renderer = p1.contour(x_i, y_i, z_i,\n",
        "                             levels=cont_levels,\n",
        "                             line_color='gray',\n",
        "                             fill_color=contour_colors,\n",
        "                             line_dash='dashed')\n",
        "# Plot CCs, colored by order\n",
        "for i in range(0, len(cc_len)):\n",
        "    cc_plots = p1.scatter('x_values', 'y_values', source=cc_plot_source,\n",
        "              view=CDSView(filter=GroupFilter(column_name='Order', group=len(cc_len) - i)),\n",
        "              size=12,\n",
        "              marker='square',\n",
        "              line_color='white',\n",
        "              fill_color=linear_cmap('Order', cc_colors, low=min(ccs['order']), high=max(ccs['order'])),\n",
        "              hover_color='black',\n",
        "              legend_label='CC Order {}'.format(len(cc_len) - i),\n",
        "              fill_alpha=1)\n",
        "\n",
        "# Add hover tool for CCs\n",
        "p1.add_tools(HoverTool(tooltips=cc_TOOLS,\n",
        "                      mode='mouse',\n",
        "                      point_policy='follow_mouse'))\n",
        "\n",
        "# Plot DNFs, colored by order\n",
        "all_dnf_plots = []\n",
        "for i in range(0, len(dnf_len)):\n",
        "    dnf_plot = p1.scatter('x_values', 'y_values', source=dnf_plot_source,\n",
        "              view=CDSView(filter=GroupFilter(column_name='Order', group=len(dnf_len) - i)),\n",
        "              size=13,\n",
        "              marker='circle',\n",
        "              line_color='white',\n",
        "              fill_color=linear_cmap('Order', dnf_colors, low=min(dnfs['order']), high=max(dnfs['order'])),\n",
        "              hover_color='black',\n",
        "              legend_label='DNF Order {}'.format(len(dnf_len) - i),\n",
        "              fill_alpha=1)\n",
        "    all_dnf_plots.append(dnf_plot)\n",
        "\n",
        "# Add seperate hover tool for DNFs\n",
        "p1.add_tools(HoverTool(renderers = all_dnf_plots,\n",
        "                      tooltips=dnf_TOOLS,\n",
        "                      mode='mouse',\n",
        "                      point_policy='follow_mouse'))\n",
        "\n",
        "# Add color bar for fitness contours\n",
        "colorbar = contour_renderer.construct_color_bar(height=int(h/2),\n",
        "                                                location=(0,int(h/4)),\n",
        "                                                formatter = NumeralTickFormatter(format='0 a'),\n",
        "                                                bar_line_color='black',\n",
        "                                                major_tick_line_color='black')\n",
        "\n",
        "# General formatting\n",
        "p1.legend.click_policy='hide'\n",
        "p1.legend.location='bottom_left'\n",
        "p1.add_layout(colorbar, 'right')\n",
        "nonselection_fill_alpha=0.2\n",
        "\n",
        "#### FIGURE 2\n",
        "p2 = figure(width = w, height = int(h * 0.6),\n",
        "            x_range=stack_plot_feature['Feature'],\n",
        "            x_axis_label='Feature',\n",
        "            y_axis_label='Count',\n",
        "            hidpi=True,\n",
        "            tools='crosshair, reset, save, help')\n",
        "\n",
        "p2.vbar_stack(stack_names_feature,\n",
        "              x='Feature',\n",
        "              width=0.6,\n",
        "              color=Category20[len(cc_len)],\n",
        "              source=stack_plot_feature,\n",
        "              legend_label=stack_names_feature)\n",
        "\n",
        "# General formatting\n",
        "p2.xaxis.major_label_orientation = 1\n",
        "p2.y_range.start = 0\n",
        "p2.legend.location = \"top_right\"\n",
        "p2.legend.orientation = 'vertical'\n",
        "\n",
        "tab1 = TabPanel(child=p2, title='CC Feature Usage')\n",
        "\n",
        "#### FIGURE 3\n",
        "p3 = figure(width = w, height = int(h * 0.6),\n",
        "            x_range=stack_plot_cc['CC'],\n",
        "            x_axis_label='CC',\n",
        "            y_axis_label='Count',\n",
        "            hidpi=True,\n",
        "            tools='crosshair, reset, save, help')\n",
        "\n",
        "p3.vbar_stack(stack_names_cc,\n",
        "              x='CC',\n",
        "              width=0.6,\n",
        "              color=Category20[len(dnf_len)],\n",
        "              source=stack_plot_cc,\n",
        "              legend_label=stack_names_cc)\n",
        "\n",
        "# General formatting\n",
        "p3.xaxis.major_label_orientation = 1\n",
        "p3.y_range.start = 0\n",
        "p3.legend.location = \"top_right\"\n",
        "p3.legend.orientation = 'vertical'\n",
        "\n",
        "tab2 = TabPanel(child=p3, title='DNF CC Usage')\n",
        "\n",
        "#### Data Table\n",
        "data_table = DataTable(source = table_source, columns=columns, width=w, height=int(h * 0.4))\n",
        "\n",
        "#### Show Dashboard\n",
        "# Text\n",
        "p1_title = Div(text='PPV vs. COV', width=w, height=20, styles={'font-size': '150%', 'color': 'blue'})\n",
        "p2_title = Div(text='Feature and CC Usage', width=w, height=20, styles={'font-size': '150%', 'color': 'blue'})\n",
        "table_title = Div(text='CC Features', width=w, height=20, styles={'font-size': '150%', 'color': 'blue'})\n",
        "\n",
        "# Construct layout\n",
        "show(row(column(p1_title, p1), column(table_title, data_table, p2_title, Tabs(tabs=[tab1, tab2]))))"
      ]
    }
  ],
  "metadata": {
    "colab": {
      "provenance": []
    },
    "kernelspec": {
      "display_name": "Holoviews",
      "language": "python",
      "name": "python3"
    },
    "language_info": {
      "codemirror_mode": {
        "name": "ipython",
        "version": 3
      },
      "file_extension": ".py",
      "mimetype": "text/x-python",
      "name": "python",
      "nbconvert_exporter": "python",
      "pygments_lexer": "ipython3",
      "version": "3.12.8"
    }
  },
  "nbformat": 4,
  "nbformat_minor": 0
}
