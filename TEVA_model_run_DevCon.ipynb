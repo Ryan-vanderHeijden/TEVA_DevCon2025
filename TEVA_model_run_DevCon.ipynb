{
 "cells": [
  {
   "cell_type": "markdown",
   "id": "891d1c22-d698-456f-9d19-fbf88405e8c7",
   "metadata": {},
   "source": [
    "# **TEVA model run**\n",
    "*Notebook by Ali Dadkhah  |  adadkhah@uvm.edu*"
   ]
  },
  {
   "cell_type": "code",
   "execution_count": null,
   "id": "fb25bc4a-69ff-480c-ae9e-b6f270b8c93e",
   "metadata": {},
   "outputs": [],
   "source": [
    "import teva\n",
    "import logging\n",
    "from teva.utilities import flatten_dict\n",
    "import pandas as pd\n",
    "import numpy as np\n",
    "import matplotlib.pyplot as plt"
   ]
  },
  {
   "cell_type": "markdown",
   "id": "c8993aa9-f858-4685-b256-767bbb438d10",
   "metadata": {},
   "source": [
    "### Reading data and preparing it for TEVA"
   ]
  },
  {
   "cell_type": "code",
   "execution_count": null,
   "id": "43c85b81-97a7-463f-976d-5f5b8ad297d2",
   "metadata": {},
   "outputs": [],
   "source": [
    "# Data\n",
    "data = pd.read_csv('Sample_Data/CAMELS_attrib_v4_2_Jun12_2019_updated.csv', skiprows=1)\n",
    "\n",
    "# list of input featuers\n",
    "input_features_list = data.iloc[:, 6:-1].columns.tolist()\n",
    "\n",
    "# reformat the data\n",
    "classifications =data['DOC_Class'].to_numpy()\n",
    "observation_table = data[input_features_list].to_numpy()\n",
    "\n",
    "# Other variables\n",
    "n_observations = classifications.shape[0]\n",
    "n_features = len(input_features_list)\n",
    "visualize = False\n",
    "output_logging_level = logging.INFO"
   ]
  },
  {
   "cell_type": "markdown",
   "id": "de23e674-87e2-49c9-9408-87786301ee1f",
   "metadata": {},
   "source": [
    "### TEVA run"
   ]
  },
  {
   "cell_type": "code",
   "execution_count": null,
   "id": "16266968-869c-4dc7-adfe-f2eb16ed4c94",
   "metadata": {},
   "outputs": [],
   "source": [
    "# Algorithm\n",
    "teva_alg = teva.TEVA(ccea_max_order                     =n_features,\n",
    "                     ccea_offspring_per_gen             =n_features,\n",
    "                     ccea_num_new_pop                   =n_features,\n",
    "                     ccea_total_generations             =60,\n",
    "                     ccea_n_age_layers                  =5,\n",
    "                    #  ccea_max_novel_order               =4,\n",
    "                     ccea_gen_per_growth                =3,\n",
    "                     ccea_layer_size                    =n_features,\n",
    "                     ccea_archive_offspring_per_gen     =25,\n",
    "                     ccea_p_crossover                   =0.5,\n",
    "                     ccea_p_wildcard                    =0.75,\n",
    "                     ccea_p_mutation                    =1 / n_features,\n",
    "                     ccea_tournament_size               =3,\n",
    "                     ccea_selective_mutation            =False,\n",
    "                     ccea_use_sensitivity               =False,\n",
    "                     ccea_sensitivity_threshold         =0,\n",
    "                     ccea_selection_exponent            =5,\n",
    "                     ccea_fitness_threshold             =1 / n_observations,\n",
    "                     ccea_archive_bin_size              =20,\n",
    "\n",
    "                     dnfea_total_generations            =60,\n",
    "                     dnfea_gen_per_growth               =3,\n",
    "                     dnfea_n_age_layers                 =5,\n",
    "                     dnfea_offspring_per_gen            =20,\n",
    "                     dnfea_p_crossover                  =0.5,\n",
    "                     dnfea_p_targeted_mutation          =0.2,\n",
    "                     dnfea_p_targeted_crossover         =0.25,\n",
    "                     dnfea_tournament_size              =3,\n",
    "                     dnfea_p_union                      =0.5,\n",
    "                     dnfea_p_intersection               =0.0,\n",
    "                     dnfea_selection_exponent           =5,\n",
    "                     dnfea_max_order                    =12,\n",
    "                     dnfea_layer_size                   =20)\n",
    "                     # dnfea_max_ccs=4)\n",
    "\n",
    "# Run the algorithm for the data set\n",
    "unique_classes = teva_alg.fit(observation_table=observation_table,\n",
    "                              classifications=classifications)\n",
    "\n",
    "teva_alg.run_all_targets(logfile_logging_level=logging.INFO,\n",
    "                         output_logging_level=output_logging_level,\n",
    "                         visualize=visualize)"
   ]
  },
  {
   "cell_type": "code",
   "execution_count": null,
   "id": "df47d602-f1b0-44f7-bd84-ffdc08dd1e3d",
   "metadata": {},
   "outputs": [],
   "source": [
    "# plot the initial output plots (optional)\n",
    "teva_alg.plot_all(plot_ccs=True,\n",
    "                  plot_dnfs=True,\n",
    "                  plot_contours=True,\n",
    "                  single_plot=False)\n",
    "\n",
    "plt.show()"
   ]
  },
  {
   "cell_type": "markdown",
   "id": "40f4903b-cf52-4421-8dc6-19f82040c0b9",
   "metadata": {},
   "source": [
    "#### Exporting the CCs and DNFs"
   ]
  },
  {
   "cell_type": "code",
   "execution_count": null,
   "id": "bd9638e2-dc40-41fb-b6c8-4f963382af2b",
   "metadata": {},
   "outputs": [],
   "source": [
    "teva_alg.export(\"ccs_2DOC_CAMELS.xlsx\", \"dnfs_2DOC_CAMELS.xlsx\")"
   ]
  },
  {
   "cell_type": "code",
   "execution_count": null,
   "id": "75103715-88e2-4bc6-8d0e-2542a63eacf2",
   "metadata": {},
   "outputs": [],
   "source": []
  }
 ],
 "metadata": {
  "kernelspec": {
   "display_name": "Python 3 (ipykernel)",
   "language": "python",
   "name": "python3"
  },
  "language_info": {
   "codemirror_mode": {
    "name": "ipython",
    "version": 3
   },
   "file_extension": ".py",
   "mimetype": "text/x-python",
   "name": "python",
   "nbconvert_exporter": "python",
   "pygments_lexer": "ipython3",
   "version": "3.12.9"
  }
 },
 "nbformat": 4,
 "nbformat_minor": 5
}
